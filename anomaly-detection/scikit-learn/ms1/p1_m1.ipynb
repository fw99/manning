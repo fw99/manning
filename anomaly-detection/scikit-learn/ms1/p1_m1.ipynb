{
 "cells": [
  {
   "cell_type": "code",
   "execution_count": 1,
   "metadata": {},
   "outputs": [],
   "source": [
    "# Authors: Fredi Weideli"
   ]
  },
  {
   "cell_type": "markdown",
   "metadata": {},
   "source": [
    "### Purpose"
   ]
  },
  {
   "cell_type": "markdown",
   "metadata": {},
   "source": [
    "This is the Partial solution for Project 1 until the end of Milestone 2 for Novelty Detection using OneClassSVM"
   ]
  },
  {
   "cell_type": "markdown",
   "metadata": {},
   "source": [
    "<a id=\"top\"></a> <br>\n",
    "## Table of  Contents\n",
    "1. [Introduction](#1)\n",
    "\n",
    "1. [Initialization](#2)\n",
    "    1. [Load packages](#21)\n",
    "    1. [Define Metadata](#22)\n",
    "    \n",
    "1. [Load Data](#3)\n",
    "\n",
    "1. [Data Insights](#4)\n",
    "    1. [Data Structure](#41)\n",
    "    1. [Summary Stats](#42)\n",
    "    1. [Unique Value Checking](#43)\n",
    "    1. [Identifying 'Bad Columns'](#44)\n",
    "\n",
    "1. [Data Cleansing](#5)\n",
    "    1. [Data Reduction](#51)\n",
    "        1. [Dropping Bad Columns](#511)\n",
    "        1. [Null Value Removal](#512)\n",
    "        1. [Data Encoding](#513)\n",
    "    1. [Export csv file for later use](#52)\n",
    "\n",
    "1. [Modelling Workflow](#6)\n",
    "    1. [Data Prep](#61)\n",
    "        1. [Feature Target Split](#611)\n",
    "        1. [Train-Test Split](#612)\n",
    "        1. [Normalizing Numerical Variables](#613)\n",
    "    1. [Estimate of Baseline Accuracy - Class Distributions](#62)\n",
    "    1. [Semisupervised & Unsupervised Techniques for Novelty & Outlier Detection](#63)\n",
    "        1. [OneClassSVMs for Novelty Detection](#631)\n",
    "        1. [Robust Covariance for Outlier Detection](#632)\n",
    "        1. [Isolation Forest for Novelty Detection](#633)\n",
    "        1. [Local Outlier Factor for Novelty Detection](#634)\n"
   ]
  },
  {
   "cell_type": "markdown",
   "metadata": {},
   "source": [
    "# <a id='1'>Introduction</a>  \n",
    "\n",
    "As described on the project page, the dataset contains the Thyroid disease data that is imbalanced. Before running this notebook, please make sure that you have gone through the first project in the LiveSeries and the starter template"
   ]
  },
  {
   "cell_type": "markdown",
   "metadata": {},
   "source": [
    "## <a id='2'>Initialization</a>  \n"
   ]
  },
  {
   "cell_type": "markdown",
   "metadata": {},
   "source": [
    "### <a id='21'>Load Packages</a>  "
   ]
  },
  {
   "cell_type": "markdown",
   "metadata": {},
   "source": [
    "Load the minimum number of packages to get started and add more as we go along"
   ]
  },
  {
   "cell_type": "code",
   "execution_count": 2,
   "metadata": {},
   "outputs": [],
   "source": [
    "import pandas as pd \n",
    "import numpy as np\n",
    "\n",
    "import matplotlib.pyplot as plt\n",
    "%matplotlib inline\n",
    "\n",
    "import scipy\n",
    "from scipy.io.arff import loadarff\n",
    "import scipy.io as sio\n",
    "\n",
    "from collections import Counter\n",
    "from sklearn.preprocessing import MinMaxScaler\n",
    "\n",
    "from sklearn.covariance import EllipticEnvelope\n",
    "from sklearn.ensemble import IsolationForest\n",
    "from sklearn.neighbors import LocalOutlierFactor\n",
    "from sklearn.svm import OneClassSVM\n",
    "\n",
    "from sklearn.metrics import accuracy_score, classification_report,confusion_matrix \n",
    "from sklearn.metrics import roc_auc_score, f1_score, precision_score, recall_score, average_precision_score"
   ]
  },
  {
   "cell_type": "markdown",
   "metadata": {},
   "source": [
    "### <a id='22'>Define Metadata</a>  "
   ]
  },
  {
   "cell_type": "code",
   "execution_count": 3,
   "metadata": {},
   "outputs": [],
   "source": [
    "# Define the name of the target class column here instead of manually typing it out everywhere\n",
    "target_class_name = 6\n",
    "\n",
    "# Fill in the names of what you want to call the 0 and 1 class\n",
    "labels = ['inliers', 'outliers']\n",
    "\n",
    "# The following file is downloaded from http://odds.cs.stonybrook.edu/thyroid-disease-dataset/ and kept in the data/raw folder\n",
    "input_file_name = 'thyroid.mat'\n",
    "\n",
    "# Using relative path path to specify that the data subfolder is two directories up from the current folder \n",
    "raw_data_folder = '../../data/raw/'\n",
    "processed_data_folder = '../../data/processed/'\n",
    "\n",
    "# Any exported artifacts will have this date\n",
    "export_date = '20220129'"
   ]
  },
  {
   "cell_type": "markdown",
   "metadata": {},
   "source": [
    "## <a id='3'>Load Data</a>  "
   ]
  },
  {
   "cell_type": "markdown",
   "metadata": {},
   "source": [
    "In this part we will load the data and perform some necessary preprocessing"
   ]
  },
  {
   "cell_type": "code",
   "execution_count": 4,
   "metadata": {
    "scrolled": true
   },
   "outputs": [
    {
     "data": {
      "text/plain": [
       "{'__header__': b'MATLAB 5.0 MAT-file, written by Octave 3.8.0, 2014-12-05 13:11:25 UTC',\n",
       " '__version__': '1.0',\n",
       " '__globals__': [],\n",
       " 'X': array([[7.74193548e-01, 1.13207547e-03, 1.37571157e-01, 2.75700935e-01,\n",
       "         2.95774648e-01, 2.36065574e-01],\n",
       "        [2.47311828e-01, 4.71698113e-04, 2.79886148e-01, 3.29439252e-01,\n",
       "         5.35211268e-01, 1.73770492e-01],\n",
       "        [4.94623656e-01, 3.58490566e-03, 2.22960152e-01, 2.33644860e-01,\n",
       "         5.25821596e-01, 1.24590164e-01],\n",
       "        ...,\n",
       "        [9.35483871e-01, 2.45283019e-02, 1.60341556e-01, 2.82710280e-01,\n",
       "         3.75586854e-01, 2.00000000e-01],\n",
       "        [6.77419355e-01, 1.47169811e-03, 1.90702087e-01, 2.42990654e-01,\n",
       "         3.23943662e-01, 1.95081967e-01],\n",
       "        [4.83870968e-01, 3.56603774e-03, 1.90702087e-01, 2.12616822e-01,\n",
       "         3.38028169e-01, 1.63934426e-01]]),\n",
       " 'y': array([[0.],\n",
       "        [0.],\n",
       "        [0.],\n",
       "        ...,\n",
       "        [0.],\n",
       "        [0.],\n",
       "        [0.]])}"
      ]
     },
     "execution_count": 4,
     "metadata": {},
     "output_type": "execute_result"
    }
   ],
   "source": [
    "from os.path import dirname, join as pjoin\n",
    "\n",
    "mat_fname = pjoin(raw_data_folder, input_file_name)\n",
    "data = sio.loadmat(mat_fname)\n",
    "\n",
    "data"
   ]
  },
  {
   "cell_type": "code",
   "execution_count": 5,
   "metadata": {},
   "outputs": [
    {
     "data": {
      "text/plain": [
       "((3772, 6), (3772, 1))"
      ]
     },
     "execution_count": 5,
     "metadata": {},
     "output_type": "execute_result"
    }
   ],
   "source": [
    "# STORE THE FEATURES AND TARGET OBJECTS IN THEIR OWN VARIABLES FOR EASY RETRIEVAL\n",
    "\n",
    "X = data['X']\n",
    "y = data['y']\n",
    "\n",
    "X.shape, y.shape"
   ]
  },
  {
   "cell_type": "code",
   "execution_count": 6,
   "metadata": {},
   "outputs": [
    {
     "data": {
      "text/html": [
       "<div>\n",
       "<style scoped>\n",
       "    .dataframe tbody tr th:only-of-type {\n",
       "        vertical-align: middle;\n",
       "    }\n",
       "\n",
       "    .dataframe tbody tr th {\n",
       "        vertical-align: top;\n",
       "    }\n",
       "\n",
       "    .dataframe thead th {\n",
       "        text-align: right;\n",
       "    }\n",
       "</style>\n",
       "<table border=\"1\" class=\"dataframe\">\n",
       "  <thead>\n",
       "    <tr style=\"text-align: right;\">\n",
       "      <th></th>\n",
       "      <th>0</th>\n",
       "      <th>1</th>\n",
       "      <th>2</th>\n",
       "      <th>3</th>\n",
       "      <th>4</th>\n",
       "      <th>5</th>\n",
       "      <th>6</th>\n",
       "    </tr>\n",
       "  </thead>\n",
       "  <tbody>\n",
       "    <tr>\n",
       "      <th>325</th>\n",
       "      <td>0.548387</td>\n",
       "      <td>0.003208</td>\n",
       "      <td>0.192600</td>\n",
       "      <td>0.235981</td>\n",
       "      <td>0.394366</td>\n",
       "      <td>0.160656</td>\n",
       "      <td>0.0</td>\n",
       "    </tr>\n",
       "    <tr>\n",
       "      <th>354</th>\n",
       "      <td>0.559140</td>\n",
       "      <td>0.000755</td>\n",
       "      <td>0.190702</td>\n",
       "      <td>0.264019</td>\n",
       "      <td>0.333333</td>\n",
       "      <td>0.206557</td>\n",
       "      <td>0.0</td>\n",
       "    </tr>\n",
       "    <tr>\n",
       "      <th>3563</th>\n",
       "      <td>0.526882</td>\n",
       "      <td>0.014340</td>\n",
       "      <td>0.156546</td>\n",
       "      <td>0.294393</td>\n",
       "      <td>0.417840</td>\n",
       "      <td>0.190164</td>\n",
       "      <td>0.0</td>\n",
       "    </tr>\n",
       "    <tr>\n",
       "      <th>3155</th>\n",
       "      <td>0.784946</td>\n",
       "      <td>0.001151</td>\n",
       "      <td>0.080645</td>\n",
       "      <td>0.264019</td>\n",
       "      <td>0.262911</td>\n",
       "      <td>0.247541</td>\n",
       "      <td>0.0</td>\n",
       "    </tr>\n",
       "    <tr>\n",
       "      <th>3648</th>\n",
       "      <td>0.634409</td>\n",
       "      <td>0.002642</td>\n",
       "      <td>0.190702</td>\n",
       "      <td>0.273364</td>\n",
       "      <td>0.436620</td>\n",
       "      <td>0.170492</td>\n",
       "      <td>0.0</td>\n",
       "    </tr>\n",
       "  </tbody>\n",
       "</table>\n",
       "</div>"
      ],
      "text/plain": [
       "             0         1         2         3         4         5    6\n",
       "325   0.548387  0.003208  0.192600  0.235981  0.394366  0.160656  0.0\n",
       "354   0.559140  0.000755  0.190702  0.264019  0.333333  0.206557  0.0\n",
       "3563  0.526882  0.014340  0.156546  0.294393  0.417840  0.190164  0.0\n",
       "3155  0.784946  0.001151  0.080645  0.264019  0.262911  0.247541  0.0\n",
       "3648  0.634409  0.002642  0.190702  0.273364  0.436620  0.170492  0.0"
      ]
     },
     "execution_count": 6,
     "metadata": {},
     "output_type": "execute_result"
    }
   ],
   "source": [
    "#### CONCATENATE THE X AND y OBJECTS TO CREATE THE DATAFRAME\n",
    "df = pd.concat([pd.DataFrame(data=X), pd.DataFrame(data=y)], axis=1, ignore_index=True)\n",
    "\n",
    "df.sample(5)"
   ]
  },
  {
   "cell_type": "markdown",
   "metadata": {},
   "source": [
    "Lets check the head & tail to make sure there is nothing going on at the last row or the header"
   ]
  },
  {
   "cell_type": "code",
   "execution_count": 7,
   "metadata": {},
   "outputs": [
    {
     "data": {
      "text/html": [
       "<div>\n",
       "<style scoped>\n",
       "    .dataframe tbody tr th:only-of-type {\n",
       "        vertical-align: middle;\n",
       "    }\n",
       "\n",
       "    .dataframe tbody tr th {\n",
       "        vertical-align: top;\n",
       "    }\n",
       "\n",
       "    .dataframe thead th {\n",
       "        text-align: right;\n",
       "    }\n",
       "</style>\n",
       "<table border=\"1\" class=\"dataframe\">\n",
       "  <thead>\n",
       "    <tr style=\"text-align: right;\">\n",
       "      <th></th>\n",
       "      <th>0</th>\n",
       "      <th>1</th>\n",
       "      <th>2</th>\n",
       "      <th>3</th>\n",
       "      <th>4</th>\n",
       "      <th>5</th>\n",
       "      <th>6</th>\n",
       "    </tr>\n",
       "  </thead>\n",
       "  <tbody>\n",
       "    <tr>\n",
       "      <th>0</th>\n",
       "      <td>0.774194</td>\n",
       "      <td>0.001132</td>\n",
       "      <td>0.137571</td>\n",
       "      <td>0.275701</td>\n",
       "      <td>0.295775</td>\n",
       "      <td>0.236066</td>\n",
       "      <td>0.0</td>\n",
       "    </tr>\n",
       "    <tr>\n",
       "      <th>1</th>\n",
       "      <td>0.247312</td>\n",
       "      <td>0.000472</td>\n",
       "      <td>0.279886</td>\n",
       "      <td>0.329439</td>\n",
       "      <td>0.535211</td>\n",
       "      <td>0.173770</td>\n",
       "      <td>0.0</td>\n",
       "    </tr>\n",
       "    <tr>\n",
       "      <th>2</th>\n",
       "      <td>0.494624</td>\n",
       "      <td>0.003585</td>\n",
       "      <td>0.222960</td>\n",
       "      <td>0.233645</td>\n",
       "      <td>0.525822</td>\n",
       "      <td>0.124590</td>\n",
       "      <td>0.0</td>\n",
       "    </tr>\n",
       "  </tbody>\n",
       "</table>\n",
       "</div>"
      ],
      "text/plain": [
       "          0         1         2         3         4         5    6\n",
       "0  0.774194  0.001132  0.137571  0.275701  0.295775  0.236066  0.0\n",
       "1  0.247312  0.000472  0.279886  0.329439  0.535211  0.173770  0.0\n",
       "2  0.494624  0.003585  0.222960  0.233645  0.525822  0.124590  0.0"
      ]
     },
     "execution_count": 7,
     "metadata": {},
     "output_type": "execute_result"
    }
   ],
   "source": [
    "df.head(3)"
   ]
  },
  {
   "cell_type": "code",
   "execution_count": 8,
   "metadata": {},
   "outputs": [
    {
     "data": {
      "text/html": [
       "<div>\n",
       "<style scoped>\n",
       "    .dataframe tbody tr th:only-of-type {\n",
       "        vertical-align: middle;\n",
       "    }\n",
       "\n",
       "    .dataframe tbody tr th {\n",
       "        vertical-align: top;\n",
       "    }\n",
       "\n",
       "    .dataframe thead th {\n",
       "        text-align: right;\n",
       "    }\n",
       "</style>\n",
       "<table border=\"1\" class=\"dataframe\">\n",
       "  <thead>\n",
       "    <tr style=\"text-align: right;\">\n",
       "      <th></th>\n",
       "      <th>0</th>\n",
       "      <th>1</th>\n",
       "      <th>2</th>\n",
       "      <th>3</th>\n",
       "      <th>4</th>\n",
       "      <th>5</th>\n",
       "      <th>6</th>\n",
       "    </tr>\n",
       "  </thead>\n",
       "  <tbody>\n",
       "    <tr>\n",
       "      <th>3769</th>\n",
       "      <td>0.935484</td>\n",
       "      <td>0.024528</td>\n",
       "      <td>0.160342</td>\n",
       "      <td>0.282710</td>\n",
       "      <td>0.375587</td>\n",
       "      <td>0.200000</td>\n",
       "      <td>0.0</td>\n",
       "    </tr>\n",
       "    <tr>\n",
       "      <th>3770</th>\n",
       "      <td>0.677419</td>\n",
       "      <td>0.001472</td>\n",
       "      <td>0.190702</td>\n",
       "      <td>0.242991</td>\n",
       "      <td>0.323944</td>\n",
       "      <td>0.195082</td>\n",
       "      <td>0.0</td>\n",
       "    </tr>\n",
       "    <tr>\n",
       "      <th>3771</th>\n",
       "      <td>0.483871</td>\n",
       "      <td>0.003566</td>\n",
       "      <td>0.190702</td>\n",
       "      <td>0.212617</td>\n",
       "      <td>0.338028</td>\n",
       "      <td>0.163934</td>\n",
       "      <td>0.0</td>\n",
       "    </tr>\n",
       "  </tbody>\n",
       "</table>\n",
       "</div>"
      ],
      "text/plain": [
       "             0         1         2         3         4         5    6\n",
       "3769  0.935484  0.024528  0.160342  0.282710  0.375587  0.200000  0.0\n",
       "3770  0.677419  0.001472  0.190702  0.242991  0.323944  0.195082  0.0\n",
       "3771  0.483871  0.003566  0.190702  0.212617  0.338028  0.163934  0.0"
      ]
     },
     "execution_count": 8,
     "metadata": {},
     "output_type": "execute_result"
    }
   ],
   "source": [
    "df.tail(3)"
   ]
  },
  {
   "cell_type": "markdown",
   "metadata": {},
   "source": [
    "No trouble with loading the data. Both the head and tail are clean"
   ]
  },
  {
   "cell_type": "markdown",
   "metadata": {},
   "source": [
    "## <a id=4 > Data Insights"
   ]
  },
  {
   "cell_type": "markdown",
   "metadata": {},
   "source": [
    "### <a id='41'>Data Structure</a> "
   ]
  },
  {
   "cell_type": "code",
   "execution_count": 9,
   "metadata": {
    "scrolled": false
   },
   "outputs": [
    {
     "name": "stdout",
     "output_type": "stream",
     "text": [
      "<class 'pandas.core.frame.DataFrame'>\n",
      "RangeIndex: 3772 entries, 0 to 3771\n",
      "Data columns (total 7 columns):\n",
      " #   Column  Non-Null Count  Dtype  \n",
      "---  ------  --------------  -----  \n",
      " 0   0       3772 non-null   float64\n",
      " 1   1       3772 non-null   float64\n",
      " 2   2       3772 non-null   float64\n",
      " 3   3       3772 non-null   float64\n",
      " 4   4       3772 non-null   float64\n",
      " 5   5       3772 non-null   float64\n",
      " 6   6       3772 non-null   float64\n",
      "dtypes: float64(7)\n",
      "memory usage: 206.4 KB\n"
     ]
    }
   ],
   "source": [
    "# Lets see the data structure\n",
    "df.info()"
   ]
  },
  {
   "cell_type": "markdown",
   "metadata": {},
   "source": [
    "None of the columns have null values at first glance, but we will run a more thorough diagnostic later"
   ]
  },
  {
   "cell_type": "markdown",
   "metadata": {},
   "source": [
    "### <a id='42'>Summary Stats</a> "
   ]
  },
  {
   "cell_type": "markdown",
   "metadata": {},
   "source": [
    "check out each column's summary statistics\n",
    "Note that only the numerical columns will be described\n",
    "Also you will want to exclude the discrete columns whose summary stats will give non-sensical values like 'customer_id' "
   ]
  },
  {
   "cell_type": "code",
   "execution_count": 10,
   "metadata": {},
   "outputs": [
    {
     "data": {
      "text/html": [
       "<div>\n",
       "<style scoped>\n",
       "    .dataframe tbody tr th:only-of-type {\n",
       "        vertical-align: middle;\n",
       "    }\n",
       "\n",
       "    .dataframe tbody tr th {\n",
       "        vertical-align: top;\n",
       "    }\n",
       "\n",
       "    .dataframe thead th {\n",
       "        text-align: right;\n",
       "    }\n",
       "</style>\n",
       "<table border=\"1\" class=\"dataframe\">\n",
       "  <thead>\n",
       "    <tr style=\"text-align: right;\">\n",
       "      <th></th>\n",
       "      <th>0</th>\n",
       "      <th>1</th>\n",
       "      <th>2</th>\n",
       "      <th>3</th>\n",
       "      <th>4</th>\n",
       "      <th>5</th>\n",
       "      <th>6</th>\n",
       "    </tr>\n",
       "  </thead>\n",
       "  <tbody>\n",
       "    <tr>\n",
       "      <th>count</th>\n",
       "      <td>3772.000000</td>\n",
       "      <td>3772.000000</td>\n",
       "      <td>3772.000000</td>\n",
       "      <td>3772.000000</td>\n",
       "      <td>3772.000000</td>\n",
       "      <td>3772.000000</td>\n",
       "      <td>3772.000000</td>\n",
       "    </tr>\n",
       "    <tr>\n",
       "      <th>mean</th>\n",
       "      <td>0.543121</td>\n",
       "      <td>0.008983</td>\n",
       "      <td>0.186826</td>\n",
       "      <td>0.248332</td>\n",
       "      <td>0.376941</td>\n",
       "      <td>0.177301</td>\n",
       "      <td>0.024655</td>\n",
       "    </tr>\n",
       "    <tr>\n",
       "      <th>std</th>\n",
       "      <td>0.203790</td>\n",
       "      <td>0.043978</td>\n",
       "      <td>0.070405</td>\n",
       "      <td>0.080579</td>\n",
       "      <td>0.087382</td>\n",
       "      <td>0.054907</td>\n",
       "      <td>0.155093</td>\n",
       "    </tr>\n",
       "    <tr>\n",
       "      <th>min</th>\n",
       "      <td>0.000000</td>\n",
       "      <td>0.000000</td>\n",
       "      <td>0.000000</td>\n",
       "      <td>0.000000</td>\n",
       "      <td>0.000000</td>\n",
       "      <td>0.000000</td>\n",
       "      <td>0.000000</td>\n",
       "    </tr>\n",
       "    <tr>\n",
       "      <th>25%</th>\n",
       "      <td>0.376344</td>\n",
       "      <td>0.001132</td>\n",
       "      <td>0.156546</td>\n",
       "      <td>0.203271</td>\n",
       "      <td>0.328638</td>\n",
       "      <td>0.149180</td>\n",
       "      <td>0.000000</td>\n",
       "    </tr>\n",
       "    <tr>\n",
       "      <th>50%</th>\n",
       "      <td>0.569892</td>\n",
       "      <td>0.003019</td>\n",
       "      <td>0.190702</td>\n",
       "      <td>0.241822</td>\n",
       "      <td>0.375587</td>\n",
       "      <td>0.173770</td>\n",
       "      <td>0.000000</td>\n",
       "    </tr>\n",
       "    <tr>\n",
       "      <th>75%</th>\n",
       "      <td>0.709677</td>\n",
       "      <td>0.004528</td>\n",
       "      <td>0.213472</td>\n",
       "      <td>0.282710</td>\n",
       "      <td>0.413146</td>\n",
       "      <td>0.196721</td>\n",
       "      <td>0.000000</td>\n",
       "    </tr>\n",
       "    <tr>\n",
       "      <th>max</th>\n",
       "      <td>1.000000</td>\n",
       "      <td>1.000000</td>\n",
       "      <td>1.000000</td>\n",
       "      <td>1.000000</td>\n",
       "      <td>1.000000</td>\n",
       "      <td>1.000000</td>\n",
       "      <td>1.000000</td>\n",
       "    </tr>\n",
       "  </tbody>\n",
       "</table>\n",
       "</div>"
      ],
      "text/plain": [
       "                 0            1            2            3            4  \\\n",
       "count  3772.000000  3772.000000  3772.000000  3772.000000  3772.000000   \n",
       "mean      0.543121     0.008983     0.186826     0.248332     0.376941   \n",
       "std       0.203790     0.043978     0.070405     0.080579     0.087382   \n",
       "min       0.000000     0.000000     0.000000     0.000000     0.000000   \n",
       "25%       0.376344     0.001132     0.156546     0.203271     0.328638   \n",
       "50%       0.569892     0.003019     0.190702     0.241822     0.375587   \n",
       "75%       0.709677     0.004528     0.213472     0.282710     0.413146   \n",
       "max       1.000000     1.000000     1.000000     1.000000     1.000000   \n",
       "\n",
       "                 5            6  \n",
       "count  3772.000000  3772.000000  \n",
       "mean      0.177301     0.024655  \n",
       "std       0.054907     0.155093  \n",
       "min       0.000000     0.000000  \n",
       "25%       0.149180     0.000000  \n",
       "50%       0.173770     0.000000  \n",
       "75%       0.196721     0.000000  \n",
       "max       1.000000     1.000000  "
      ]
     },
     "execution_count": 10,
     "metadata": {},
     "output_type": "execute_result"
    }
   ],
   "source": [
    "df.describe()\n",
    "# Looks like all the numbers are between 0 and 1"
   ]
  },
  {
   "cell_type": "markdown",
   "metadata": {},
   "source": [
    "### <a id='43'>Unique Value Checking</a> "
   ]
  },
  {
   "cell_type": "code",
   "execution_count": 11,
   "metadata": {
    "scrolled": true
   },
   "outputs": [
    {
     "name": "stdout",
     "output_type": "stream",
     "text": [
      "0 93\n",
      "1 280\n",
      "2 72\n",
      "3 243\n",
      "4 141\n",
      "5 324\n",
      "6 2\n"
     ]
    }
   ],
   "source": [
    "#### ITERATE IN A FOR LOOP TO SEE THE UNIQUE VALUES IN EACH COLUMN\n",
    "for column in df:\n",
    "    print(str(column) + ' ' + str(df[column].nunique()))"
   ]
  },
  {
   "cell_type": "markdown",
   "metadata": {},
   "source": [
    "All of the columns have atleast 2 unique values, hence there is less of a chance of quasi-constant values "
   ]
  },
  {
   "cell_type": "markdown",
   "metadata": {},
   "source": [
    "### <a id='44'>Identifying Bad Columns</a> "
   ]
  },
  {
   "cell_type": "code",
   "execution_count": 12,
   "metadata": {},
   "outputs": [],
   "source": [
    "# Copy this function from the starter template\n",
    "\n",
    "def find_bad_columns_function(dataframe):\n",
    "    '''\n",
    "    Args: dataframe for which there maybe columns of concern that need to be fixed or deleted\n",
    "    \n",
    "    Logic: Find the columns that have \n",
    "    Null values\n",
    "    blanks in the strings\n",
    "    quasi constant/constant values defined by less than 1% variance\n",
    "    \n",
    "    Returns: 4 lists containing those features that have nulls, blanks, constant values throughout for numerical and categorical\n",
    "    \n",
    "    '''\n",
    "    \n",
    "    ###### Finding Null Values\n",
    "    null_col_list = dataframe.columns[dataframe.isna().any()].tolist()\n",
    "    \n",
    "    print('Identified {} features with atleast one null'.format(\n",
    "        len(null_col_list)))\n",
    "\n",
    "    ###### Finding Blank Spaces in the object column\n",
    "    # Non-obvious nulls such as blanks: The line items where there are spaces \n",
    "    blank_space_col_list = []\n",
    "    object_columns = dataframe.select_dtypes(include=['object']).columns\n",
    "\n",
    "    for col in object_columns:\n",
    "        if sum(dataframe[col]==' '):\n",
    "            blank_space_col_list.append(col)\n",
    "\n",
    "    print('Identified {} features with atleast one blank space'.format(\n",
    "        len(blank_space_col_list)))\n",
    "    \n",
    "    ####### Finding Quasi Constant/Constant Value in numerical columns\n",
    "    # Lets remove the variables that have more than 99% of their values as the same \n",
    "    # ie their standard deviation is less than 1 %\n",
    "    \n",
    "    numeric_df = dataframe._get_numeric_data()\n",
    "    constant_numeric_col_list = [col for col in numeric_df.columns if numeric_df[col].std()<0.01]\n",
    "\n",
    "    print('Identified {} numeric features that have quasi-constant values'.format(\n",
    "        len(constant_numeric_col_list)))\n",
    "    \n",
    "    # We use a separate logic for the non-numerical variables because if you have closely varying float values\n",
    "    # then the below code snippet wont pick it up\n",
    "    \n",
    "    ###### Finding Quasi Constant/Constant non_numeric value\n",
    "    constant_non_numeric_col_list = []\n",
    "    \n",
    "    # Find the columns that are not in numeric_df\n",
    "    non_numeric_col_set = set(dataframe.columns) - set(numeric_df.columns)   \n",
    "\n",
    "    for col in non_numeric_col_set:\n",
    "        categorical_mode_value = (dataframe[col].mode().values)[0]\n",
    "        fractional_presence = sum(dataframe[col]==categorical_mode_value)/len(dataframe) \n",
    "    \n",
    "        if fractional_presence > 0.99:\n",
    "            constant_non_numeric_col_list.append(col)\n",
    "            \n",
    "    print('Identified {} non-numeric features that have quasi-constant values'.format(\n",
    "        len(constant_non_numeric_col_list)))\n",
    "    \n",
    "    return null_col_list, blank_space_col_list, constant_numeric_col_list, constant_non_numeric_col_list"
   ]
  },
  {
   "cell_type": "code",
   "execution_count": 13,
   "metadata": {},
   "outputs": [
    {
     "name": "stdout",
     "output_type": "stream",
     "text": [
      "Identified 0 features with atleast one null\n",
      "Identified 0 features with atleast one blank space\n",
      "Identified 0 numeric features that have quasi-constant values\n",
      "Identified 0 non-numeric features that have quasi-constant values\n"
     ]
    }
   ],
   "source": [
    "# USE THE ABOVE CUSTOM FUNCTION TO FIGURE OUT THE IF THERE ARE ANY COLUMNS WE NEED TO BE CONCERNED ABOUT\n",
    "\n",
    "bad_values = find_bad_columns_function(df)"
   ]
  },
  {
   "cell_type": "markdown",
   "metadata": {},
   "source": [
    "Thankfully, there is no need to worry about any of the columns in this dataset"
   ]
  },
  {
   "cell_type": "markdown",
   "metadata": {},
   "source": [
    "## <a id='5'>Data Cleansing</a> "
   ]
  },
  {
   "cell_type": "markdown",
   "metadata": {},
   "source": [
    "### <a id='51'>Data Reduction</a> "
   ]
  },
  {
   "cell_type": "markdown",
   "metadata": {},
   "source": [
    "#### <a id='511'>Dropping Bad Columns</a> "
   ]
  },
  {
   "cell_type": "code",
   "execution_count": 14,
   "metadata": {},
   "outputs": [],
   "source": [
    "# Skip this because there are no bad columns"
   ]
  },
  {
   "cell_type": "markdown",
   "metadata": {},
   "source": [
    "#### <a id='512'>Null Value Removal</a> "
   ]
  },
  {
   "cell_type": "code",
   "execution_count": 15,
   "metadata": {},
   "outputs": [],
   "source": [
    "# No null values to drop from the rows"
   ]
  },
  {
   "cell_type": "markdown",
   "metadata": {},
   "source": [
    "#### <a id='513'>Data Encoding</a> "
   ]
  },
  {
   "cell_type": "code",
   "execution_count": 16,
   "metadata": {},
   "outputs": [
    {
     "data": {
      "text/plain": [
       "0    float64\n",
       "1    float64\n",
       "2    float64\n",
       "3    float64\n",
       "4    float64\n",
       "5    float64\n",
       "6    float64\n",
       "dtype: object"
      ]
     },
     "execution_count": 16,
     "metadata": {},
     "output_type": "execute_result"
    }
   ],
   "source": [
    "df.dtypes"
   ]
  },
  {
   "cell_type": "code",
   "execution_count": 17,
   "metadata": {},
   "outputs": [],
   "source": [
    "# There are no categorical variables to encode "
   ]
  },
  {
   "cell_type": "markdown",
   "metadata": {},
   "source": [
    "### <a id='52'>Export cleaned csv file for later use</a> "
   ]
  },
  {
   "cell_type": "code",
   "execution_count": 18,
   "metadata": {},
   "outputs": [],
   "source": [
    "#### USING THE .to_csv() METHOD EXPORT THE DATAFRAME FOR LATER USE\n",
    "\n",
    "csv_fname = pjoin(processed_data_folder, 'thyroid_' + export_date + '.csv')\n",
    "\n",
    "df.to_csv(csv_fname, encoding='utf-8', index=False)"
   ]
  },
  {
   "cell_type": "markdown",
   "metadata": {},
   "source": [
    "## Milestone 1 Ends"
   ]
  },
  {
   "cell_type": "markdown",
   "metadata": {},
   "source": [
    "## Milestone 2 Begins"
   ]
  },
  {
   "cell_type": "markdown",
   "metadata": {},
   "source": [
    "## <a id = 6 > Modelling Workflow"
   ]
  }
 ],
 "metadata": {
  "kernelspec": {
   "display_name": "Python 3 (ipykernel)",
   "language": "python",
   "name": "python3"
  },
  "language_info": {
   "codemirror_mode": {
    "name": "ipython",
    "version": 3
   },
   "file_extension": ".py",
   "mimetype": "text/x-python",
   "name": "python",
   "nbconvert_exporter": "python",
   "pygments_lexer": "ipython3",
   "version": "3.9.7"
  }
 },
 "nbformat": 4,
 "nbformat_minor": 2
}
